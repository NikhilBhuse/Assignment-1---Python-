{
 "cells": [
  {
   "cell_type": "markdown",
   "id": "8274c627",
   "metadata": {},
   "source": [
    "# Assignment 1 - (Python)"
   ]
  },
  {
   "cell_type": "code",
   "execution_count": 1,
   "id": "86138ecb",
   "metadata": {},
   "outputs": [
    {
     "name": "stdout",
     "output_type": "stream",
     "text": [
      "listen and silent are anagrams.\n"
     ]
    }
   ],
   "source": [
    "# 1. Write a Python program to check if a given string is an anagram.\n",
    "\n",
    "def is_anagram(str1, str2):  #Create a function \n",
    "    # Convert the strings to lowercase \n",
    "    str1 = str1.lower().replace(\" \", \"\")\n",
    "    str2 = str2.lower().replace(\" \", \"\")\n",
    "\n",
    "    # Check if the lengths of the strings are equal\n",
    "    if len(str1) != len(str2):\n",
    "        return False\n",
    "\n",
    "    # Create dictionaries to count the frequency of characters in  string\n",
    "    count_str1 = {}\n",
    "    count_str2 = {}\n",
    "\n",
    "    # Count the frequency of characters in str1\n",
    "    for char in str1:\n",
    "        count_str1[char] = count_str1.get(char, 0) + 1\n",
    "\n",
    "    # Count the frequency of characters in str2\n",
    "    for char in str2:\n",
    "        count_str2[char] = count_str2.get(char, 0) + 1\n",
    "\n",
    "    # character frequencies are equal in both strings\n",
    "    return count_str1 == count_str2\n",
    "\n",
    "\n",
    "# check function\n",
    "string1 = \"listen\"\n",
    "string2 = \"silent\"\n",
    "if is_anagram(string1, string2):\n",
    "    print(f\"{string1} and {string2} are anagrams.\")\n",
    "else:\n",
    "    print(f\"{string1} and {string2} are not anagrams.\")\n",
    "\n"
   ]
  },
  {
   "cell_type": "code",
   "execution_count": 3,
   "id": "6a1e8de6",
   "metadata": {},
   "outputs": [
    {
     "name": "stdout",
     "output_type": "stream",
     "text": [
      "Maximum Value of dictionary is:  2456\n",
      "Minimum Value of dictionary is:  30\n"
     ]
    }
   ],
   "source": [
    "# 2. Write a Python program to find the maximum and minimum values in a dictionary.\n",
    "\n",
    "# create a dictionary\n",
    "my_dict = {'a':30, 'b':5874, 'c': 560 , 'd': 453 ,'e':2456}\n",
    "\n",
    "key_max = max(my_dict.keys())\n",
    "key_min = min(my_dict.keys())\n",
    "\n",
    "#if both maximum and minimum values exist\n",
    "print('Maximum Value of dictionary is: ',my_dict[key_max])\n",
    "print('Minimum Value of dictionary is: ',my_dict[key_min])"
   ]
  },
  {
   "cell_type": "code",
   "execution_count": 2,
   "id": "e85227d1",
   "metadata": {},
   "outputs": [
    {
     "name": "stdout",
     "output_type": "stream",
     "text": [
      "The average is: 6.0\n"
     ]
    }
   ],
   "source": [
    "# 3. Write a Python program to find the average of a list of numbers.\n",
    "\n",
    "\n",
    "def calculate_average(numbers):\n",
    "    # Check if the list is empty\n",
    "    if len(numbers) == 0:\n",
    "        return 0\n",
    "\n",
    "    # Calculate the sum of numbers using the  sum() function\n",
    "    total = sum(numbers)\n",
    "\n",
    "    # Calculate the average by dividing the total by the number of elements\n",
    "    average = total / len(numbers)\n",
    "\n",
    "    return average\n",
    "\n",
    "\n",
    "# Test the function\n",
    "num_list = [2, 4, 6, 8, 10]\n",
    "avg = calculate_average(num_list)\n",
    "print(f\"The average is: {avg}\")\n"
   ]
  },
  {
   "cell_type": "code",
   "execution_count": 4,
   "id": "e4fb1ee0",
   "metadata": {},
   "outputs": [
    {
     "name": "stdout",
     "output_type": "stream",
     "text": [
      "Enter a String : ineuron\n",
      "String after removing the vowels : nrn\n"
     ]
    }
   ],
   "source": [
    "# 4. Write a Python program to remove all vowels from a string.\n",
    "\n",
    "\n",
    "#input string from the user\n",
    "string = input(\"Enter a String : \") \n",
    "result=''\n",
    "for i in string:  \n",
    "#iterating through each character of the string\n",
    "    if i in ('a', 'e', 'i', 'o', 'u', 'A', 'E', 'I', 'O', 'U'):  \n",
    "     #seaching for vowels\n",
    "        i = ''  \n",
    "#if vowel found replace it with empty string\n",
    "    result += i \n",
    "    #concatenate rest of the string\n",
    "print(\"String after removing the vowels :\",result)"
   ]
  },
  {
   "cell_type": "code",
   "execution_count": 5,
   "id": "3ac4f4a8",
   "metadata": {},
   "outputs": [
    {
     "name": "stdout",
     "output_type": "stream",
     "text": [
      "Enter your input here :- 5\n",
      "The factorial of 5 is 120\n"
     ]
    }
   ],
   "source": [
    "# 5. Write a Python function to calculate the factorial of a number using recursion.\n",
    "\n",
    "def recur_factorial(n):\n",
    "   if n == 1:\n",
    "       return n\n",
    "   else:\n",
    "       return n*recur_factorial(n-1)\n",
    "\n",
    "num = int(input(\"Enter your input here :- \"))\n",
    "\n",
    "# check if the number is negative\n",
    "if num < 0:\n",
    "   print(\"Sorry, please enter postive number because factorial does not exist for negative numbers\")\n",
    "elif num == 0:\n",
    "   print(\"The factorial of 0 is 1\")\n",
    "else:\n",
    "   print(\"The factorial of\", num, \"is\", recur_factorial(num))\n"
   ]
  },
  {
   "cell_type": "code",
   "execution_count": 6,
   "id": "c309fc4e",
   "metadata": {},
   "outputs": [
    {
     "name": "stdout",
     "output_type": "stream",
     "text": [
      "The original list 1 is : [0, 25, 7, 6, 1]\n",
      "The original list 2 is : [3, 4, 7, 8, 10]\n",
      "The combined sorted list is : [0, 1, 3, 4, 6, 7, 7, 8, 10, 25]\n"
     ]
    }
   ],
   "source": [
    "# 6. Write a Python program to merge two unsorted lists into a single sorted list\n",
    "# using the merge sort algorithm.\n",
    "\n",
    "\n",
    "\n",
    "list1 = [0, 25, 7, 6, 1]\n",
    "list2 = [3, 4, 7, 8, 10]\n",
    "\n",
    "# printing original lists\n",
    "print (\"The original list 1 is : \" + str(list1))\n",
    "print (\"The original list 2 is : \" + str(list2))\n",
    "\n",
    "# using sorted()\n",
    "# to combine two sorted lists\n",
    "res = sorted(list1 + list2)\n",
    "\n",
    "# printing result\n",
    "print (\"The combined sorted list is : \" + str(res))\n"
   ]
  },
  {
   "cell_type": "code",
   "execution_count": 9,
   "id": "a96b07bd",
   "metadata": {},
   "outputs": [
    {
     "name": "stdout",
     "output_type": "stream",
     "text": [
      "The gcd of 44 and 82 is : 2\n"
     ]
    }
   ],
   "source": [
    "# 7. Write a Python program to find the GCD (Greatest Common Divisor) of two\n",
    "# numbers.\n",
    "\n",
    "\n",
    "\n",
    "\n",
    "def hcf(a, b):\n",
    "\tif(b == 0):\n",
    "\t\treturn a\n",
    "\telse:\n",
    "\t\treturn hcf(b, a % b)\n",
    "\n",
    "a = 44\n",
    "b = 82\n",
    "\n",
    "# prints 12\n",
    "print(\"The gcd of 44 and 82 is : \", end=\"\")\n",
    "print(hcf(44, 82))\n"
   ]
  },
  {
   "cell_type": "code",
   "execution_count": 12,
   "id": "904572ad",
   "metadata": {},
   "outputs": [
    {
     "name": "stdout",
     "output_type": "stream",
     "text": [
      "The second-largest element in a list 87\n"
     ]
    }
   ],
   "source": [
    "# 8. Write a Python program to find the second-largest element in a list.\n",
    "\n",
    "# create a list\n",
    "list_1 = [12,44,3,56,87,108,86]\n",
    "\n",
    "# using sort in built function\n",
    "list_1.sort()\n",
    "# print the second-largest element in a list with help of indexing\n",
    "print(\"The second-largest element in a list\",list_1[-2])\n",
    "\n"
   ]
  },
  {
   "cell_type": "code",
   "execution_count": 13,
   "id": "fc26a142",
   "metadata": {},
   "outputs": [
    {
     "name": "stdout",
     "output_type": "stream",
     "text": [
      "Length of LCS is  4\n"
     ]
    }
   ],
   "source": [
    "# 9. Write a Python program to find the longest common subsequence between two strings using dynamic programming.\n",
    "\n",
    "\n",
    "def lcs(X, Y):\n",
    "\t# find the length of the strings\n",
    "\tm = len(X)\n",
    "\tn = len(Y)\n",
    "\n",
    "\n",
    "\tL = [[None]*(n + 1) for i in range(m + 1)]\n",
    "\n",
    "\t\"\"\"Following steps build L[m + 1][n + 1] in bottom up fashion\n",
    "\tNote: L[i][j] contains length of LCS of X[0..i-1]\n",
    "\tand Y[0..j-1]\"\"\"\n",
    "\tfor i in range(m + 1):\n",
    "\t\tfor j in range(n + 1):\n",
    "\t\t\tif i == 0 or j == 0 :\n",
    "\t\t\t\tL[i][j] = 0\n",
    "\t\t\telif X[i-1] == Y[j-1]:\n",
    "\t\t\t\tL[i][j] = L[i-1][j-1]+1\n",
    "\t\t\telse:\n",
    "\t\t\t\tL[i][j] = max(L[i-1][j], L[i][j-1])\n",
    "\n",
    "\t\n",
    "\treturn L[m][n]\n",
    "# end of function lcs\n",
    "\n",
    "\n",
    "# test the above function\n",
    "X = \"AGGTAB\"\n",
    "Y = \"GXTXAYB\"\n",
    "print(\"Length of LCS is \", lcs(X, Y))\n"
   ]
  },
  {
   "cell_type": "code",
   "execution_count": null,
   "id": "ab27d07e",
   "metadata": {},
   "outputs": [],
   "source": []
  }
 ],
 "metadata": {
  "kernelspec": {
   "display_name": "Python 3 (ipykernel)",
   "language": "python",
   "name": "python3"
  },
  "language_info": {
   "codemirror_mode": {
    "name": "ipython",
    "version": 3
   },
   "file_extension": ".py",
   "mimetype": "text/x-python",
   "name": "python",
   "nbconvert_exporter": "python",
   "pygments_lexer": "ipython3",
   "version": "3.9.13"
  }
 },
 "nbformat": 4,
 "nbformat_minor": 5
}
